{
  "cells": [
    {
      "cell_type": "markdown",
      "metadata": {
        "id": "nHgfrm9GzjYj"
      },
      "source": [
        "# 二項分布シュミレーター(修正版)"
      ]
    },
    {
      "cell_type": "markdown",
      "metadata": {
        "id": "pWI2XgNS2MGe"
      },
      "source": [
        "参考文献\n",
        "\n",
        "http://www.gentosha-academy.com/serial/okamoto-2/\n",
        "https://python.atelierkobato.com/binomial/#outline__1_3[リンクテキスト](https://)"
      ]
    },
    {
      "cell_type": "markdown",
      "metadata": {
        "id": "4kxTK8NI0jCJ"
      },
      "source": [
        "会議室の座席占有状況を考える。\n",
        "プロットされるヒストグラムは、k席着席され，(n-k)席空席となる確率pkを図示したものであり、横軸はkを、縦軸はpkを表す。"
      ]
    },
    {
      "cell_type": "code",
      "execution_count": 5,
      "metadata": {
        "id": "unIy5_HImTYH"
      },
      "outputs": [],
      "source": [
        "import numpy as np\n",
        "import matplotlib.pyplot as plt\n",
        "# import math\n",
        "from scipy import stats"
      ]
    },
    {
      "cell_type": "markdown",
      "metadata": {
        "id": "ZWI8RU60zsDJ"
      },
      "source": [
        "関数 seat(seat_num, p): について\n",
        "\n",
        "seat_numは座席数を、pは各席が着席となる確率を表す。\n",
        "\n",
        "scipy.stats.binom() は二項分布オブジェクトを生成するコンストラクタである\n",
        "\n"
      ]
    },
    {
      "cell_type": "code",
      "execution_count": 6,
      "metadata": {
        "id": "OAh5fjitpeT7"
      },
      "outputs": [],
      "source": [
        "def seat(seat_num, p): \n",
        "  data = stats.binom.rvs(seat_num, p, size = 10**6)\n",
        "  # print(data.shape)\n",
        "  # print(data)\n",
        "  x_range = [i - 0.5 for i in range(seat_num+2)]\n",
        "  plt.hist(data, bins = x_range)\n",
        "  plt.show()\n",
        "\n",
        "  mean = np.mean(data)\n",
        "  var = np.var(data)\n",
        "  print(\"平均理論値(np):\")\n",
        "  print(seat_num*p)\n",
        "  print(\"平均実測値:\")\n",
        "  print(mean)\n",
        "  print(\"分散理論値 np(1-p)\")\n",
        "  print(seat_num*p*(1-p))\n",
        "  print(\"分散実測値:\")\n",
        "  print(var)\n",
        "\n",
        "  print(\"ポアソン分布を仮定したときの平均、分散λ\")\n",
        "  print(seat_num*p)"
      ]
    },
    {
      "cell_type": "markdown",
      "metadata": {
        "id": "CYtBt-MH1DsD"
      },
      "source": [
        "まず、座席数は6とする。\n",
        "p=0.2, 0.5, 0.7\n",
        "とすると、グラフは以下のようになる。"
      ]
    },
    {
      "cell_type": "code",
      "execution_count": 7,
      "metadata": {
        "colab": {
          "base_uri": "https://localhost:8080/",
          "height": 975
        },
        "id": "W-YgUfdWvI99",
        "outputId": "29c558ae-43c1-4a99-99c5-1fd85956febd"
      },
      "outputs": [
        {
          "data": {
            "image/png": "[encoded data removed]",
            "text/plain": [
              "<Figure size 432x288 with 1 Axes>"
            ]
          },
          "metadata": {
            "needs_background": "light"
          },
          "output_type": "display_data"
        },
        {
          "name": "stdout",
          "output_type": "stream",
          "text": [
            "平均理論値(np):\n",
            "1.2000000000000002\n",
            "平均実測値:\n",
            "1.199404\n",
            "分散理論値 np(1-p)\n",
            "0.9600000000000002\n",
            "分散実測値:\n",
            "0.9601140447839994\n",
            "ポアソン分布を仮定したときの平均、分散λ\n",
            "1.2000000000000002\n"
          ]
        },
        {
          "data": {
            "image/png": "[encoded data removed]",
            "text/plain": [
              "<Figure size 432x288 with 1 Axes>"
            ]
          },
          "metadata": {
            "needs_background": "light"
          },
          "output_type": "display_data"
        },
        {
          "name": "stdout",
          "output_type": "stream",
          "text": [
            "平均理論値(np):\n",
            "3.0\n",
            "平均実測値:\n",
            "2.998117\n",
            "分散理論値 np(1-p)\n",
            "1.5\n",
            "分散実測値:\n",
            "1.4996334543110004\n",
            "ポアソン分布を仮定したときの平均、分散λ\n",
            "3.0\n"
          ]
        },
        {
          "data": {
            "image/png": "[encoded data removed]",
            "text/plain": [
              "<Figure size 432x288 with 1 Axes>"
            ]
          },
          "metadata": {
            "needs_background": "light"
          },
          "output_type": "display_data"
        },
        {
          "name": "stdout",
          "output_type": "stream",
          "text": [
            "平均理論値(np):\n",
            "4.199999999999999\n",
            "平均実測値:\n",
            "4.200965\n",
            "分散理論値 np(1-p)\n",
            "1.26\n",
            "分散実測値:\n",
            "1.2573760687750004\n",
            "ポアソン分布を仮定したときの平均、分散λ\n",
            "4.199999999999999\n"
          ]
        }
      ],
      "source": [
        "seat(6, 0.2)\n",
        "seat(6, 0.5)\n",
        "seat(6, 0.7)"
      ]
    },
    {
      "cell_type": "markdown",
      "metadata": {},
      "source": [
        "平均、分散の理論値は実測値と概ね一致している"
      ]
    },
    {
      "cell_type": "markdown",
      "metadata": {
        "id": "12VzwIOX1phC"
      },
      "source": [
        "次に、座席数seat_numを100, 着席の確率pを0.02とすると、以下のようになる"
      ]
    },
    {
      "cell_type": "code",
      "execution_count": 8,
      "metadata": {
        "colab": {
          "base_uri": "https://localhost:8080/",
          "height": 336
        },
        "id": "_Oov1YvgmdXy",
        "outputId": "91c2c896-89e6-4585-943f-edec9a1ce64e"
      },
      "outputs": [
        {
          "data": {
            "image/png": "[encoded data removed]",
            "text/plain": [
              "<Figure size 432x288 with 1 Axes>"
            ]
          },
          "metadata": {
            "needs_background": "light"
          },
          "output_type": "display_data"
        },
        {
          "name": "stdout",
          "output_type": "stream",
          "text": [
            "平均理論値(np):\n",
            "2.0\n",
            "平均実測値:\n",
            "2.000513\n",
            "分散理論値 np(1-p)\n",
            "1.96\n",
            "分散実測値:\n",
            "1.9598007368310006\n",
            "ポアソン分布を仮定したときの平均、分散λ\n",
            "2.0\n"
          ]
        }
      ],
      "source": [
        "seat(100, 0.02)"
      ]
    },
    {
      "cell_type": "markdown",
      "metadata": {},
      "source": [
        "グラフの概形はポアソン分布に概ね一致しており、シュミレーションにより得られた平均、分散も理論値λと一致している"
      ]
    }
  ],
  "metadata": {
    "colab": {
      "collapsed_sections": [],
      "name": "二項分布シュミレーション.ipynb",
      "provenance": []
    },
    "interpreter": {
      "hash": "d21e5faa5edc86d49b5d1297faa4d2e6ae6cd0b0a887ae0eef3468ea6b663597"
    },
    "kernelspec": {
      "display_name": "Python 3.8.8 ('base')",
      "language": "python",
      "name": "python3"
    },
    "language_info": {
      "codemirror_mode": {
        "name": "ipython",
        "version": 3
      },
      "file_extension": ".py",
      "mimetype": "text/x-python",
      "name": "python",
      "nbconvert_exporter": "python",
      "pygments_lexer": "ipython3",
      "version": "3.8.8"
    }
  },
  "nbformat": 4,
  "nbformat_minor": 0
}
